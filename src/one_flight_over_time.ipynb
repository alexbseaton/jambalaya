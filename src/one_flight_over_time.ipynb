{
 "cells": [
  {
   "cell_type": "code",
   "execution_count": 161,
   "metadata": {},
   "outputs": [],
   "source": [
    "import pandas as pd\n",
    "import tqdm\n",
    "\n",
    "import handler\n",
    "import sqlalchemy as sql\n",
    "from alchemy_utils import Base\n",
    "\n",
    "session = handler.Session()"
   ]
  },
  {
   "cell_type": "code",
   "execution_count": 102,
   "metadata": {},
   "outputs": [],
   "source": [
    "all_departed = \"\"\"\n",
    "SELECT *\n",
    "FROM leg\n",
    "WHERE departure_date BETWEEN date_add('2018-01-15 06:45:00', INTERVAL 30 day) AND SUBDATE(NOW(), 1)\n",
    "\"\"\"\n",
    "\n",
    "with handler.engine.connect() as con:\n",
    "    df = pd.read_sql_query(all_departed, con)"
   ]
  },
  {
   "cell_type": "code",
   "execution_count": 128,
   "metadata": {},
   "outputs": [],
   "source": [
    "# the combination of these columns forms a natural key\n",
    "primary_cols = ['departure_location', 'arrival_location', 'departure_date', 'airline']\n",
    "flights = [x for x in df.groupby(primary_cols)]"
   ]
  },
  {
   "cell_type": "code",
   "execution_count": 169,
   "metadata": {
    "scrolled": false
   },
   "outputs": [],
   "source": [
    "flight = min(flights, key=lambda x: len(x[1]))[0]"
   ]
  },
  {
   "cell_type": "code",
   "execution_count": 162,
   "metadata": {},
   "outputs": [
    {
     "name": "stderr",
     "output_type": "stream",
     "text": [
      "100%|██████████████████████████████████████████████████████████████████████████████████████████████████████████████████████████████████████████████████████████████████████| 7617/7617 [10:56:31<00:00,  5.17s/it]\n"
     ]
    }
   ],
   "source": [
    "min_data_points = 30\n",
    "f = {}\n",
    "for key, d in tqdm.tqdm(flights):\n",
    "    if len(d) < min_data_points:\n",
    "        continue\n",
    "    d['time_until_departure'] = d['departure_date'] - d['request_time']\n",
    "    d['indexed_duration'] = d['duration'] - pd.Timestamp('1970-01-01 00:00:00')\n",
    "    d = d.drop(labels=primary_cols + ['request_time', 'duration'], axis=1).set_index('id')\n",
    "    f[key] = d"
   ]
  },
  {
   "cell_type": "code",
   "execution_count": 164,
   "metadata": {},
   "outputs": [],
   "source": [
    "import pickle\n",
    "import os"
   ]
  },
  {
   "cell_type": "code",
   "execution_count": 175,
   "metadata": {},
   "outputs": [],
   "source": [
    "with open(os.path.join(os.pardir, 'data', 'large_data', 'price_against_request_time.pkl'), 'wb') as file:\n",
    "    pickle.dump(f, file)"
   ]
  },
  {
   "cell_type": "code",
   "execution_count": 172,
   "metadata": {},
   "outputs": [],
   "source": [
    "test = [x for x in f.keys()][0]"
   ]
  },
  {
   "cell_type": "code",
   "execution_count": 174,
   "metadata": {},
   "outputs": [
    {
     "data": {
      "text/plain": [
       "6999"
      ]
     },
     "execution_count": 174,
     "metadata": {},
     "output_type": "execute_result"
    }
   ],
   "source": []
  },
  {
   "cell_type": "code",
   "execution_count": null,
   "metadata": {},
   "outputs": [],
   "source": []
  }
 ],
 "metadata": {
  "kernelspec": {
   "display_name": "Python 3",
   "language": "python",
   "name": "python3"
  },
  "language_info": {
   "codemirror_mode": {
    "name": "ipython",
    "version": 3
   },
   "file_extension": ".py",
   "mimetype": "text/x-python",
   "name": "python",
   "nbconvert_exporter": "python",
   "pygments_lexer": "ipython3",
   "version": "3.6.4"
  }
 },
 "nbformat": 4,
 "nbformat_minor": 2
}
